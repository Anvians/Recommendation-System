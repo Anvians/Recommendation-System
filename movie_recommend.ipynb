{
 "cells": [
  {
   "cell_type": "code",
   "execution_count": 124,
   "id": "44d84e27-1e32-4e73-9b40-0dfe3dd9370c",
   "metadata": {},
   "outputs": [],
   "source": [
    "import numpy as np\n",
    "import pandas as pd"
   ]
  },
  {
   "cell_type": "code",
   "execution_count": 125,
   "id": "5feda119-fb0f-4dd1-9f5a-e352514c6c72",
   "metadata": {},
   "outputs": [],
   "source": [
    "credit = pd.read_csv('credit.csv')\n",
    "movies = pd.read_csv('movies.csv')"
   ]
  },
  {
   "cell_type": "code",
   "execution_count": 126,
   "id": "c390ef13-fa59-43f8-a164-181a8956ecec",
   "metadata": {},
   "outputs": [],
   "source": [
    "movies = movies.merge(credit, on='title')"
   ]
  },
  {
   "cell_type": "code",
   "execution_count": 127,
   "id": "d3ebb84f-9328-4419-bfdb-1b95d512f286",
   "metadata": {},
   "outputs": [],
   "source": [
    "movies.to_json('movies.json', orient='records', lines=True)"
   ]
  },
  {
   "cell_type": "code",
   "execution_count": 128,
   "id": "e86921a2-1a9f-4162-b185-27486e657433",
   "metadata": {},
   "outputs": [],
   "source": [
    "movies = movies[['id', 'title', 'genres', 'keywords', 'overview', 'cast', 'crew' ]]"
   ]
  },
  {
   "cell_type": "code",
   "execution_count": 129,
   "id": "72acdc86-f9a3-4006-99f7-e249977e9f4a",
   "metadata": {},
   "outputs": [],
   "source": [
    "# movies['crew'][0]\n",
    "import ast\n",
    "def director(data):\n",
    "    dire = []\n",
    "    for i in ast.literal_eval(data):\n",
    "        if i['job'] == 'Director':\n",
    "            dire.append(i['name'])\n",
    "            break\n",
    "    return dire"
   ]
  },
  {
   "cell_type": "code",
   "execution_count": 130,
   "id": "830374b8-b876-4b02-ac8f-e27eb99289d4",
   "metadata": {},
   "outputs": [],
   "source": [
    "movies['crew'] = movies['crew'].apply(director)"
   ]
  },
  {
   "cell_type": "code",
   "execution_count": 131,
   "id": "dcaed073-df72-40ad-bca2-c94c1b703d64",
   "metadata": {},
   "outputs": [],
   "source": [
    "movies.dropna(inplace=True)"
   ]
  },
  {
   "cell_type": "code",
   "execution_count": 132,
   "id": "d6598f22-f7a0-4689-a493-b3bdd2c401e3",
   "metadata": {},
   "outputs": [],
   "source": [
    "def convert(obj):\n",
    "    l = []\n",
    "    for i in ast.literal_eval(obj):\n",
    "        l.append(i['name'])\n",
    "    return l"
   ]
  },
  {
   "cell_type": "code",
   "execution_count": 133,
   "id": "36155a09-623b-4494-b5aa-0ad885eeabe9",
   "metadata": {},
   "outputs": [],
   "source": [
    "movies['genres'] = movies['genres'].apply(convert)"
   ]
  },
  {
   "cell_type": "code",
   "execution_count": 134,
   "id": "44426d59-717d-4b45-a447-9eba5341e152",
   "metadata": {},
   "outputs": [],
   "source": [
    "movies['cast'] = movies['cast'].apply(convert)"
   ]
  },
  {
   "cell_type": "code",
   "execution_count": 135,
   "id": "55ba767c-73fb-42a3-a55f-b60f3595c7d6",
   "metadata": {},
   "outputs": [],
   "source": [
    "movies['keywords'] = movies['keywords'].apply(convert)"
   ]
  },
  {
   "cell_type": "code",
   "execution_count": 136,
   "id": "299a97fd-1893-49e4-9de2-1c5d99f62f38",
   "metadata": {},
   "outputs": [],
   "source": [
    "movies['overview'] = movies['overview'].apply(lambda x:x.split())"
   ]
  },
  {
   "cell_type": "code",
   "execution_count": 137,
   "id": "39efab8a-a7c9-4f07-9e4f-2aef7319e479",
   "metadata": {},
   "outputs": [],
   "source": [
    "movies['cast'] = movies['cast'].apply(lambda x:x[:3])"
   ]
  },
  {
   "cell_type": "code",
   "execution_count": 138,
   "id": "9cc6ddf2-28a6-4052-a3b4-35de0f2d31e4",
   "metadata": {},
   "outputs": [],
   "source": [
    "movies['genres'] = movies['genres'].apply(lambda x:[i.replace(' ', '') for i in x])\n",
    "movies['overview'] = movies['overview'].apply(lambda x:[i.replace(' ', '') for i in x])\n",
    "movies['cast'] = movies['cast'].apply(lambda x:[i.replace(' ', '') for i in x])\n",
    "movies['crew'] = movies['crew'].apply(lambda x:[i.replace(' ', '') for i in x])\n",
    "movies['keywords'] = movies['keywords'].apply(lambda x:[i.replace(' ', '') for i in x])"
   ]
  },
  {
   "cell_type": "code",
   "execution_count": 139,
   "id": "493ef98b-52c5-4e3a-b847-4b935ae9b122",
   "metadata": {},
   "outputs": [],
   "source": [
    "movies['tags'] = movies['overview']+ movies['genres'] +  movies['keywords'] + movies['cast'] + movies['crew']"
   ]
  },
  {
   "cell_type": "code",
   "execution_count": 140,
   "id": "b7f11995-9420-40c2-b80d-904b4d5da590",
   "metadata": {},
   "outputs": [],
   "source": [
    "newMovies = movies[['id', 'title', 'tags']]"
   ]
  },
  {
   "cell_type": "code",
   "execution_count": 141,
   "id": "0e847b0c-9d40-463b-9e34-a04010fff59b",
   "metadata": {},
   "outputs": [
    {
     "name": "stderr",
     "output_type": "stream",
     "text": [
      "C:\\Users\\ANKIT SHARMA\\AppData\\Local\\Temp\\ipykernel_2536\\18303954.py:1: SettingWithCopyWarning: \n",
      "A value is trying to be set on a copy of a slice from a DataFrame.\n",
      "Try using .loc[row_indexer,col_indexer] = value instead\n",
      "\n",
      "See the caveats in the documentation: https://pandas.pydata.org/pandas-docs/stable/user_guide/indexing.html#returning-a-view-versus-a-copy\n",
      "  newMovies['tags'] = newMovies['tags'].apply(lambda x:' '.join(x))\n"
     ]
    }
   ],
   "source": [
    "newMovies['tags'] = newMovies['tags'].apply(lambda x:' '.join(x))"
   ]
  },
  {
   "cell_type": "code",
   "execution_count": 142,
   "id": "1f7d92a2-9c84-4065-a656-c56d834f16d7",
   "metadata": {},
   "outputs": [
    {
     "name": "stderr",
     "output_type": "stream",
     "text": [
      "C:\\Users\\ANKIT SHARMA\\AppData\\Local\\Temp\\ipykernel_2536\\1981169705.py:1: SettingWithCopyWarning: \n",
      "A value is trying to be set on a copy of a slice from a DataFrame.\n",
      "Try using .loc[row_indexer,col_indexer] = value instead\n",
      "\n",
      "See the caveats in the documentation: https://pandas.pydata.org/pandas-docs/stable/user_guide/indexing.html#returning-a-view-versus-a-copy\n",
      "  newMovies['tags'] = newMovies['tags'].apply(lambda x:x.lower())\n"
     ]
    }
   ],
   "source": [
    "newMovies['tags'] = newMovies['tags'].apply(lambda x:x.lower())"
   ]
  },
  {
   "cell_type": "code",
   "execution_count": 143,
   "id": "2ef7ddce-dad6-4f2f-a8de-c827118ccc1c",
   "metadata": {},
   "outputs": [
    {
     "data": {
      "text/plain": [
       "'in the 22nd century, a paraplegic marine is dispatched to the moon pandora on a unique mission, but becomes torn between following orders and protecting an alien civilization. action adventure fantasy sciencefiction cultureclash future spacewar spacecolony society spacetravel futuristic romance space alien tribe alienplanet cgi marine soldier battle loveaffair antiwar powerrelations mindandsoul 3d samworthington zoesaldana sigourneyweaver jamescameron'"
      ]
     },
     "execution_count": 143,
     "metadata": {},
     "output_type": "execute_result"
    }
   ],
   "source": [
    "newMovies['tags'][0]"
   ]
  },
  {
   "cell_type": "code",
   "execution_count": 144,
   "id": "e1f51bca-9e6a-44d4-8378-93a010816374",
   "metadata": {},
   "outputs": [],
   "source": [
    "from sklearn.feature_extraction.text import CountVectorizer\n",
    "cv = CountVectorizer(max_features=5000, stop_words='english')"
   ]
  },
  {
   "cell_type": "code",
   "execution_count": 145,
   "id": "303ead25-6b44-495a-b640-22a02c82ea28",
   "metadata": {},
   "outputs": [],
   "source": [
    "vectors = cv.fit_transform(newMovies['tags']).toarray()"
   ]
  },
  {
   "cell_type": "code",
   "execution_count": 146,
   "id": "25012a80-826e-418c-b43e-4f04abf1fcf8",
   "metadata": {},
   "outputs": [],
   "source": [
    "import nltk"
   ]
  },
  {
   "cell_type": "code",
   "execution_count": 147,
   "id": "106731b5-9d46-445d-a8a9-7c17a8dec882",
   "metadata": {},
   "outputs": [],
   "source": [
    "from nltk.stem.porter import PorterStemmer\n",
    "ps = PorterStemmer()"
   ]
  },
  {
   "cell_type": "code",
   "execution_count": 148,
   "id": "d263ef5b-f5f2-4cc0-ad5a-4034e6eac3df",
   "metadata": {},
   "outputs": [],
   "source": [
    "def stem(text):\n",
    "    y = []\n",
    "    for i in text.split():\n",
    "        y.append(ps.stem(i))\n",
    "    return ' '.join(y)\n",
    "        "
   ]
  },
  {
   "cell_type": "code",
   "execution_count": 149,
   "id": "8bc3e155-f7ca-45d9-9696-8e74d0f584cd",
   "metadata": {},
   "outputs": [
    {
     "name": "stderr",
     "output_type": "stream",
     "text": [
      "C:\\Users\\ANKIT SHARMA\\AppData\\Local\\Temp\\ipykernel_2536\\601366695.py:1: SettingWithCopyWarning: \n",
      "A value is trying to be set on a copy of a slice from a DataFrame.\n",
      "Try using .loc[row_indexer,col_indexer] = value instead\n",
      "\n",
      "See the caveats in the documentation: https://pandas.pydata.org/pandas-docs/stable/user_guide/indexing.html#returning-a-view-versus-a-copy\n",
      "  newMovies['tags'] = newMovies['tags'].apply(stem)\n"
     ]
    }
   ],
   "source": [
    "newMovies['tags'] = newMovies['tags'].apply(stem)"
   ]
  },
  {
   "cell_type": "code",
   "execution_count": 150,
   "id": "23aef06e-752e-4139-baf4-3fbff400d380",
   "metadata": {},
   "outputs": [],
   "source": [
    "from sklearn.metrics.pairwise import cosine_similarity"
   ]
  },
  {
   "cell_type": "code",
   "execution_count": 151,
   "id": "e100c2ef-ca82-4593-925e-eff495da4dd0",
   "metadata": {},
   "outputs": [],
   "source": [
    "similarity = cosine_similarity(vectors)"
   ]
  },
  {
   "cell_type": "code",
   "execution_count": 152,
   "id": "c73ba240-4395-4659-a15d-ca93ddca5b21",
   "metadata": {},
   "outputs": [
    {
     "data": {
      "text/plain": [
       "[(539, 0.26089696604360174),\n",
       " (1192, 0.2581988897471611),\n",
       " (507, 0.25302403842552984),\n",
       " (260, 0.25110592822973776),\n",
       " (1214, 0.24944382578492943)]"
      ]
     },
     "execution_count": 152,
     "metadata": {},
     "output_type": "execute_result"
    }
   ],
   "source": [
    "sorted(list(enumerate(similarity[0])), reverse = True, key = lambda x:x[1])[1:6]"
   ]
  },
  {
   "cell_type": "code",
   "execution_count": 153,
   "id": "241c6078-4635-4d12-8df5-804a1e8c1f55",
   "metadata": {},
   "outputs": [],
   "source": [
    "def recommended(movie):\n",
    "    movie= movie.title()\n",
    "    moviesIndex = newMovies[newMovies['title']==movie].index[0]\n",
    "    distance = similarity[moviesIndex]\n",
    "    movies_list = sorted(list(enumerate(distance)), reverse = True, key = lambda x:x[1])[1:11]\n",
    "    for i in movies_list:\n",
    "        print(newMovies.iloc[i[0]].title)\n",
    "    "
   ]
  },
  {
   "cell_type": "code",
   "execution_count": 154,
   "id": "ed5e8166-d5d9-4ab2-9b72-64f89327370e",
   "metadata": {},
   "outputs": [
    {
     "name": "stdout",
     "output_type": "stream",
     "text": [
      "Duplex\n",
      "The Helix... Loaded\n",
      "Star Trek II: The Wrath of Khan\n",
      "Timecop\n",
      "Chicago Overcoat\n",
      "Looper\n",
      "Premium Rush\n",
      "Transformers: Revenge of the Fallen\n",
      "Congo\n",
      "Flatliners\n"
     ]
    }
   ],
   "source": [
    "recommended('Inception')"
   ]
  },
  {
   "cell_type": "code",
   "execution_count": null,
   "id": "c7ec0b91-105c-4c6b-a96d-c4a0f002462b",
   "metadata": {},
   "outputs": [],
   "source": [
    "\n"
   ]
  },
  {
   "cell_type": "code",
   "execution_count": null,
   "id": "2920bbd8-3b69-47e3-a256-189b2c725c65",
   "metadata": {},
   "outputs": [],
   "source": []
  },
  {
   "cell_type": "code",
   "execution_count": null,
   "id": "a525e8b8-b0d2-488c-bd59-15cfbf758b76",
   "metadata": {},
   "outputs": [],
   "source": [
    "import numpy as np\n",
    "import pandas as pd\n",
    "credit = pd.read_csv('credit.csv')\n",
    "movies = pd.read_csv('movies.csv')\n",
    "movies = movies.merge(credit, on='title')\n",
    "movies.to_json('movies.json', orient='records', lines=True)\n",
    "movies = movies[['id', 'title', 'genres', 'keywords', 'overview', 'cast', 'crew' ]]\n",
    "import ast\n",
    "def director(data):\n",
    "    dire = []\n",
    "    for i in ast.literal_eval(data):\n",
    "        if i['job'] == 'Director':\n",
    "            dire.append(i['name'])\n",
    "            break\n",
    "    return dire\n",
    "movies['crew'] = movies['crew'].apply(director)\n",
    "movies.dropna(inplace=True)\n",
    "def convert(obj):\n",
    "    l = []\n",
    "    for i in ast.literal_eval(obj):\n",
    "        l.append(i['name'])\n",
    "    return l\n",
    "movies['genres'] = movies['genres'].apply(convert)\n",
    "movies['cast'] = movies['cast'].apply(convert)\n",
    "movies['keywords'] = movies['keywords'].apply(convert)\n",
    "movies['overview'] = movies['overview'].apply(lambda x:x.split())\n",
    "movies['cast'] = movies['cast'].apply(lambda x:x[:3])\n",
    "movies['genres'] = movies['genres'].apply(lambda x:[i.replace(' ', '') for i in x])\n",
    "movies['overview'] = movies['overview'].apply(lambda x:[i.replace(' ', '') for i in x])\n",
    "movies['cast'] = movies['cast'].apply(lambda x:[i.replace(' ', '') for i in x])\n",
    "movies['crew'] = movies['crew'].apply(lambda x:[i.replace(' ', '') for i in x])\n",
    "movies['keywords'] = movies['keywords'].apply(lambda x:[i.replace(' ', '') for i in x])\n",
    "movies['tags'] = movies['overview']+ movies['genres'] +  movies['keywords'] + movies['cast'] + movies['crew']\n",
    "newMovies = movies[['id', 'title', 'tags']]\n",
    "newMovies['tags'] = newMovies['tags'].apply(lambda x:' '.join(x))\n",
    "newMovies['tags'] = newMovies['tags'].apply(lambda x:x.lower())\n",
    "from sklearn.feature_extraction.text import CountVectorizer\n",
    "cv = CountVectorizer(max_features=5000, stop_words='english')\n",
    "\n",
    "vectors = cv.fit_transform(newMovies['tags']).toarray()\n",
    "import nltk\n",
    "from nltk.stem.porter import PorterStemmer\n",
    "ps = PorterStemmer()\n",
    "def stem(text):\n",
    "    y = []\n",
    "    for i in text.split():\n",
    "        y.append(ps.stem(i))\n",
    "    return ' '.join(y)\n",
    "\n",
    "newMovies['tags'] = newMovies['tags'].apply(stem)\n",
    "from sklearn.metrics.pairwise import cosine_similarity\n",
    "similarity = cosine_similarity(vectors)\n",
    "sorted(list(enumerate(similarity[0])), reverse = True, key = lambda x:x[1])[1:6]\n",
    "def recommended(movie):\n",
    "    movie= movie.title()\n",
    "    moviesIndex = newMovies[newMovies['title']==movie].index[0]\n",
    "    distance = similarity[moviesIndex]\n",
    "    movies_list = sorted(list(enumerate(distance)), reverse = True, key = lambda x:x[1])[1:11]\n",
    "    for i in movies_list:\n",
    "        print(newMovies.iloc[i[0]].title)\n",
    "    \n",
    "recommended('Inception')"
   ]
  },
  {
   "cell_type": "code",
   "execution_count": 199,
   "id": "31c08daa-dd94-4ab9-b5bc-96393a0090ec",
   "metadata": {},
   "outputs": [],
   "source": [
    "\n"
   ]
  },
  {
   "cell_type": "code",
   "execution_count": null,
   "id": "c8fdc8fe-3cd8-49ed-81db-1e4d9bc07fc8",
   "metadata": {},
   "outputs": [],
   "source": []
  },
  {
   "cell_type": "code",
   "execution_count": null,
   "id": "840a55cd-24f1-462a-bd15-c0517cf8c479",
   "metadata": {},
   "outputs": [],
   "source": []
  }
 ],
 "metadata": {
  "kernelspec": {
   "display_name": "Python 3 (ipykernel)",
   "language": "python",
   "name": "python3"
  },
  "language_info": {
   "codemirror_mode": {
    "name": "ipython",
    "version": 3
   },
   "file_extension": ".py",
   "mimetype": "text/x-python",
   "name": "python",
   "nbconvert_exporter": "python",
   "pygments_lexer": "ipython3",
   "version": "3.12.7"
  }
 },
 "nbformat": 4,
 "nbformat_minor": 5
}
